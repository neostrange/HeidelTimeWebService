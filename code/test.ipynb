{
 "cells": [
  {
   "cell_type": "code",
   "execution_count": 11,
   "metadata": {},
   "outputs": [],
   "source": [
    "from py_heideltime import py_heideltime\n",
    "\n",
    "text = \"\"\" Global stock markets fell today, in a mass sell-off stemming from the sub-prime mortgage crisis in the United States. The Dow Jones Industrial Average rebounded late in the day after falling more than 250 points, ending the day down about 31 points. The UK's FTSE-100 index fell 232.90 points to 6038.30, and Japan's Nikkei 225 fell 406.51 points to 16764.09. \n",
    "\n",
    "Central banks across the world are injecting funds into their banking systems to add liquidity, fearing that many financial firms with subprime ties will be insolvent. Yesterday, the U.S. Federal Reserve transferred US$24 billion to temporary reserves, following the European Central Bank, which authorized a record €83.6 billion addition to its banks, its biggest cash infusion ever. On Friday, the Fed entered into a $38 billion repurchase agreement of mortgage-backed securities, easing stockholder worries. Also on Friday, the Bank of Japan injected ¥1 trillion into Japan's financial system. \n",
    "\n",
    "The Federal Reserve met this week, but decided to maintain its target rate of 5.25%, although on Friday the federal funds rate was hovering around 6%, indicating a drop in liquidity. \n",
    "\n",
    "The volatile week began last Friday with Bear Stearns tumbling as a result from its complete loss of two major hedge funds worth more than $1.5 billion. The hedge funds had been dangerously exposed to the massive sub-prime mortgage failure, and the company announced it was unable to return any money to investors. \n",
    "\n",
    "Washington Mutual, and Countrywide Financial, both very large U.S. home loan lenders, saw shares fall. Countrywide Financial made a statement this week, saying they will be forced to retain a greater proportion of mortgage. American Home Mortgage Investment Corp, another large lender, recently filed for bankruptcy. The U.S. housing market has been declining for more than two years after the Federal Reserve raised interest rates 17 times. Now, lenders are in a quagmire from millions of people who are unable to repay loans after taking adjustable rate mortgages, teaser rates, interest-only mortgages, or piggyback rates. \n",
    "\n",
    "Jim Cramer, of CNBC's Mad Money, remarked that as many as seven million people will lose their homes from bad mortgages. Last Friday, Cramer went on a tirade on CNBC's Street Signs, saying that the \"Fed was asleep\" and called for them to lower rates immediately. \n",
    "\n",
    "Asian and European markets have become increasingly entangled in the subprime mortgage crisis in the U.S. Deutsche Bank of Germany lost almost $3.5 billion in share value, forcing the government to organize a bail-out. France's largest bank, BNP Paribas SA, halted withdrawals from three large investment funds which were crippled by sub-prime exposure.\n",
    "\n",
    "\"\"\"\n",
    "\n",
    "\n",
    "text2 = \"\"\"  it fell today. He bought a new car yesterday but there was a xml tag like <car> suv </car> so he left it. \"\"\""
   ]
  },
  {
   "cell_type": "markdown",
   "metadata": {},
   "source": []
  },
  {
   "cell_type": "code",
   "execution_count": 12,
   "metadata": {},
   "outputs": [],
   "source": [
    "results = results = py_heideltime(text, language='English', date_granularity=\"day\", document_type='news', document_creation_time='2008-08-31')"
   ]
  },
  {
   "cell_type": "code",
   "execution_count": 14,
   "metadata": {},
   "outputs": [
    {
     "name": "stdout",
     "output_type": "stream",
     "text": [
      " Global stock markets fell <TIMEX3 tid=\"t1\" type=\"DATE\" value=\"2008-08-31\">today</TIMEX3>, in a mass sell-off stemming from the sub-prime mortgage crisis in the United States. The Dow Jones Industrial Average rebounded late in the day after falling more than 250 points, ending the day down about 31 points. The UK's FTSE-100 index fell 232.90 points to 6038.30, and Japan's Nikkei 225 fell 406.51 points to 16764.09. \n",
      "\n",
      "Central banks across the world are injecting funds into their banking systems to add liquidity, fearing that many financial firms with subprime ties will be insolvent. <TIMEX3 tid=\"t2\" type=\"DATE\" value=\"2008-08-30\">Yesterday</TIMEX3>, the U.S. Federal Reserve transferred US$24 billion to temporary reserves, following the European Central Bank, which authorized a record €83.6 billion addition to its banks, its biggest cash infusion ever. On <TIMEX3 tid=\"t3\" type=\"DATE\" value=\"2008-08-29\">Friday</TIMEX3>, the Fed entered into a $38 billion repurchase agreement of mortgage-backed securities, easing stockholder worries. Also on <TIMEX3 tid=\"t4\" type=\"DATE\" value=\"2008-08-29\">Friday</TIMEX3>, the Bank of Japan injected ¥1 trillion into Japan's financial system. \n",
      "\n",
      "The Federal Reserve met <TIMEX3 tid=\"t5\" type=\"DATE\" value=\"2008-W35\">this week</TIMEX3>, but decided to maintain its target rate of 5.25%, although on <TIMEX3 tid=\"t6\" type=\"DATE\" value=\"2008-08-29\">Friday</TIMEX3> the federal funds rate was hovering around 6%, indicating a drop in liquidity. \n",
      "\n",
      "The volatile week began <TIMEX3 tid=\"t7\" type=\"DATE\" value=\"2008-08-29\">last Friday</TIMEX3> with Bear Stearns tumbling as a result from its complete loss of two major hedge funds worth more than $1.5 billion. The hedge funds had been dangerously exposed to the massive sub-prime mortgage failure, and the company announced it was unable to return any money to investors. \n",
      "\n",
      "Washington Mutual, and Countrywide Financial, both very large U.S. home loan lenders, saw shares fall. Countrywide Financial made a statement <TIMEX3 tid=\"t11\" type=\"DATE\" value=\"2008-W35\">this week</TIMEX3>, saying they will be forced to retain a greater proportion of mortgage. American Home Mortgage Investment Corp, another large lender, <TIMEX3 tid=\"t12\" type=\"DATE\" value=\"PAST_REF\">recently</TIMEX3> filed for bankruptcy. The U.S. housing market has been declining for <TIMEX3 tid=\"t13\" type=\"DURATION\" value=\"P2Y\" mod=\"MORE_THAN\">more than two years</TIMEX3> after the Federal Reserve raised interest rates 17 times. <TIMEX3 tid=\"t14\" type=\"DATE\" value=\"PRESENT_REF\">Now</TIMEX3>, lenders are in a quagmire from millions of people who are unable to repay loans after taking adjustable rate mortgages, teaser rates, interest-only mortgages, or piggyback rates. \n",
      "\n",
      "Jim Cramer, of CNBC's Mad Money, remarked that as many as seven million people will lose their homes from bad mortgages. <TIMEX3 tid=\"t15\" type=\"DATE\" value=\"2008-08-29\">Last Friday</TIMEX3>, Cramer went on a tirade on CNBC's Street Signs, saying that the \"Fed was asleep\" and called for them to lower rates immediately. \n",
      "\n",
      "Asian and European markets have become increasingly entangled in the subprime mortgage crisis in the U.S. Deutsche Bank of Germany lost almost $3.5 billion in share value, forcing the government to organize a bail-out. France's largest bank, BNP Paribas SA, halted withdrawals from three large investment funds which were crippled by sub-prime exposure.\n"
     ]
    }
   ],
   "source": [
    "print(results[2])"
   ]
  }
 ],
 "metadata": {
  "kernelspec": {
   "display_name": "venv",
   "language": "python",
   "name": "python3"
  },
  "language_info": {
   "codemirror_mode": {
    "name": "ipython",
    "version": 3
   },
   "file_extension": ".py",
   "mimetype": "text/x-python",
   "name": "python",
   "nbconvert_exporter": "python",
   "pygments_lexer": "ipython3",
   "version": "3.8.10"
  },
  "orig_nbformat": 4,
  "vscode": {
   "interpreter": {
    "hash": "7c4680721c86c4fd2995647dea688f8660f69cca7cbe25fb51d8ba9b28056e48"
   }
  }
 },
 "nbformat": 4,
 "nbformat_minor": 2
}
