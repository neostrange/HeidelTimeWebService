{
 "cells": [
  {
   "cell_type": "code",
   "execution_count": 1,
   "metadata": {},
   "outputs": [
    {
     "name": "stdout",
     "output_type": "stream",
     "text": [
      "Annotated span: today, Start index: 74, End index: 79\n"
     ]
    }
   ],
   "source": [
    "import re\n",
    "\n",
    "# original text with annotations\n",
    "text = 'Global stock markets fell <TIMEX3 tid=\"t1\" type=\"DATE\" value=\"2023-01-13\">today</TIMEX3>, in a mass sell-off stemming from the sub-prime mortgage crisis in the United States.'\n",
    "\n",
    "# regular expression to match the annotated spans\n",
    "pattern = re.compile(r'<TIMEX3.*?>(.*?)</TIMEX3>')\n",
    "\n",
    "# find all annotated spans in the text\n",
    "for match in pattern.finditer(text):\n",
    "    span = match.group(1) # the annotated span (e.g. \"today\")\n",
    "    start = match.start(1) # the start index of the span in the original text\n",
    "    end = match.end(1) # the end index of the span in the original text\n",
    "    print(f\"Annotated span: {span}, Start index: {start}, End index: {end}\")\n"
   ]
  },
  {
   "cell_type": "code",
   "execution_count": 26,
   "metadata": {},
   "outputs": [
    {
     "data": {
      "text/plain": [
       "b'<TIMEXES><TIMEX3 tid=\"t1\" type=\"DATE\" value=\"2008-08-31\" start_index=\"26\" end_index=\"31\">today</TIMEX3><TIMEX3 tid=\"t2\" type=\"DATE\" value=\"2008-08-30\" start_index=\"587\" end_index=\"596\">Yesterday</TIMEX3><TIMEX3 tid=\"t3\" type=\"DATE\" value=\"2008-08-29\" start_index=\"864\" end_index=\"870\">Friday</TIMEX3><TIMEX3 tid=\"t4\" type=\"DATE\" value=\"2008-08-29\" start_index=\"1052\" end_index=\"1058\">Friday</TIMEX3><TIMEX3 tid=\"t5\" type=\"DATE\" value=\"2008-W35\" start_index=\"1213\" end_index=\"1222\">this week</TIMEX3><TIMEX3 tid=\"t6\" type=\"DATE\" value=\"2008-08-29\" start_index=\"1341\" end_index=\"1347\">Friday</TIMEX3><TIMEX3 tid=\"t7\" type=\"DATE\" value=\"2008-08-29\" start_index=\"1510\" end_index=\"1521\">last Friday</TIMEX3><TIMEX3 tid=\"t11\" type=\"DATE\" value=\"2008-W35\" start_index=\"2002\" end_index=\"2011\">this week</TIMEX3><TIMEX3 tid=\"t12\" type=\"DATE\" value=\"PAST_REF\" start_index=\"2202\" end_index=\"2210\">recently</TIMEX3><TIMEX3 tid=\"t13\" type=\"DURATION\" value=\"P2Y\" mod=\"MORE_THAN\" start_index=\"2336\" end_index=\"2355\">more than two years</TIMEX3><TIMEX3 tid=\"t14\" type=\"DATE\" value=\"PRESENT_REF\" start_index=\"2485\" end_index=\"2488\">Now</TIMEX3><TIMEX3 tid=\"t15\" type=\"DATE\" value=\"2008-08-29\" start_index=\"2851\" end_index=\"2862\">Last Friday</TIMEX3></TIMEXES>'"
      ]
     },
     "execution_count": 26,
     "metadata": {},
     "output_type": "execute_result"
    }
   ],
   "source": [
    "import re\n",
    "import xml.etree.ElementTree as ET\n",
    "\n",
    "root  = ET.Element(\"TIMEXES\")\n",
    "\n",
    "text2 = 'Global stock markets fell <TIMEX3 tid=\"t1\" type=\"DATE\" value=\"2023-01-13\">today</TIMEX3>, in a mass sell-off stemming from the sub-prime mortgage crisis in the United States.'\n",
    "\n",
    "text = \"\"\"Global stock markets fell <TIMEX3 tid=\"t1\" type=\"DATE\" value=\"2008-08-31\">today</TIMEX3>, in a mass sell-off stemming from the sub-prime mortgage crisis in the United States. The Dow Jones Industrial Average rebounded late in the day after falling more than 250 points, ending the day down about 31 points. The UK\\'s FTSE-100 index fell 232.90 points to 6038.30, and Japan\\'s Nikkei 225 fell 406.51 points to 16764.09. \\n\\nCentral banks across the world are injecting funds into their banking systems to add liquidity, fearing that many financial firms with subprime ties will be insolvent. <TIMEX3 tid=\"t2\" type=\"DATE\" value=\"2008-08-30\">Yesterday</TIMEX3>, the U.S. Federal Reserve transferred US$24 billion to temporary reserves, following the European Central Bank, which authorized a record €83.6 billion addition to its banks, its biggest cash infusion ever. On <TIMEX3 tid=\"t3\" type=\"DATE\" value=\"2008-08-29\">Friday</TIMEX3>, the Fed entered into a $38 billion repurchase agreement of mortgage-backed securities, easing stockholder worries. Also on <TIMEX3 tid=\"t4\" type=\"DATE\" value=\"2008-08-29\">Friday</TIMEX3>, the Bank of Japan injected ¥1 trillion into Japan\\'s financial system. \\n\\nThe Federal Reserve met <TIMEX3 tid=\"t5\" type=\"DATE\" value=\"2008-W35\">this week</TIMEX3>, but decided to maintain its target rate of 5.25%, although on <TIMEX3 tid=\"t6\" type=\"DATE\" value=\"2008-08-29\">Friday</TIMEX3> the federal funds rate was hovering around 6%, indicating a drop in liquidity. \\n\\nThe volatile week began <TIMEX3 tid=\"t7\" type=\"DATE\" value=\"2008-08-29\">last Friday</TIMEX3> with Bear Stearns tumbling as a result from its complete loss of two major hedge funds worth more than $1.5 billion. The hedge funds had been dangerously exposed to the massive sub-prime mortgage failure, and the company announced it was unable to return any money to investors. \\n\\nWashington Mutual, and Countrywide Financial, both very large U.S. home loan lenders, saw shares fall. Countrywide Financial made a statement <TIMEX3 tid=\"t11\" type=\"DATE\" value=\"2008-W35\">this week</TIMEX3>, saying they will be forced to retain a greater proportion of mortgage. American Home Mortgage Investment Corp, another large lender, <TIMEX3 tid=\"t12\" type=\"DATE\" value=\"PAST_REF\">recently</TIMEX3> filed for bankruptcy. The U.S. housing market has been declining for <TIMEX3 tid=\"t13\" type=\"DURATION\" value=\"P2Y\" mod=\"MORE_THAN\">more than two years</TIMEX3> after the Federal Reserve raised interest rates 17 times. <TIMEX3 tid=\"t14\" type=\"DATE\" value=\"PRESENT_REF\">Now</TIMEX3>, lenders are in a quagmire from millions of people who are unable to repay loans after taking adjustable rate mortgages, teaser rates, interest-only mortgages, or piggyback rates. \\n\\nJim Cramer, of CNBC\\'s Mad Money, remarked that as many as seven million people will lose their homes from bad mortgages. <TIMEX3 tid=\"t15\" type=\"DATE\" value=\"2008-08-29\">Last Friday</TIMEX3>, Cramer went on a tirade on CNBC\\'s Street Signs, saying that the \"Fed was asleep\" and called for them to lower rates immediately. \\n\\nAsian and European markets have become increasingly entangled in the subprime mortgage crisis in the U.S. Deutsche Bank of Germany lost almost $3.5 billion in share value, forcing the government to organize a bail-out. France\\'s largest bank, BNP Paribas SA, halted withdrawals from three large investment funds which were crippled by sub-prime exposure.\"\"\"\n",
    "\n",
    "# Regex pattern to match the xml tags\n",
    "pattern = re.compile(r'<TIMEX3.*?>(.*?)</TIMEX3>')\n",
    "\n",
    "# Get the text without the xml tags\n",
    "text_without_tags = pattern.sub(\"\", text)\n",
    "\n",
    "# Iterate through the matches\n",
    "for match in pattern.finditer(text):\n",
    "    start_index = match.start() # Start index of the xml tag\n",
    "    end_index = match.end() # End index of the xml tag\n",
    "    text_span = match.group(1) # Text span within the xml tag\n",
    "    start = match.start(1) # the start index of the span in the original text\n",
    "    end = match.end(1) # the end index of the span in the original text\n",
    "    original_st_index = start - start_index\n",
    "    original_end_index = end - start + start_index\n",
    "    # print(f\"Text span: {text_span}, st: {start}, end: {end}, Start index: {start_index}, End index: {end_index}\")\n",
    "    # print(f\"original start index: {start_index}, original end index: {original_end_index}\")\n",
    "    # print(match.group())\n",
    "\n",
    "    child1 = ET.fromstring(match.group())\n",
    "\n",
    "    child1.set(\"start_index\", str(start_index))\n",
    "    child1.set(\"end_index\", str(original_end_index))\n",
    "    root.append(child1)\n",
    "\n",
    "ET.tostring(root, encoding='utf-8')\n",
    "#ET.dump(root)\n",
    "# # Iterate through the text spans\n",
    "# for i, span in enumerate(text_without_tags.split()):\n",
    "#     start_index = text.index(span)\n",
    "#     end_index = start_index + len(span)\n",
    "#     print(f\"Text span: {span}, Start index: {start_index}, End index: {end_index}\")\n"
   ]
  },
  {
   "cell_type": "code",
   "execution_count": 8,
   "metadata": {},
   "outputs": [
    {
     "name": "stdout",
     "output_type": "stream",
     "text": [
      "[{'text': 'today', 'start': 143, 'end': 148, 'attributes': {'tid': 't1', 'type': 'DATE', 'value': '2023-01-13'}}, {'text': 'Yesterday', 'start': 704, 'end': 713, 'attributes': {'tid': 't2', 'type': 'DATE', 'value': '2023-01-12'}}, {'text': 'Friday', 'start': 981, 'end': 987, 'attributes': {'tid': 't3', 'type': 'DATE', 'value': '2023-01-13'}}, {'text': 'Friday', 'start': 981, 'end': 987, 'attributes': {'tid': 't4', 'type': 'DATE', 'value': '2023-01-13'}}]\n"
     ]
    }
   ],
   "source": [
    "import xml.etree.ElementTree as ET\n",
    "\n",
    "xml_string = '''<?xml version=\"1.0\"?>\n",
    "<!DOCTYPE TimeML SYSTEM \"TimeML.dtd\">\n",
    "<TimeML>\n",
    "Global stock markets fell <TIMEX3 tid=\"t1\" type=\"DATE\" value=\"2023-01-13\">today</TIMEX3>, in a mass sell-off stemming from the sub-prime mortgage crisis in the United States. The Dow Jones Industrial Average rebounded late in the day after falling more than 250 points, ending the day down about 31 points. The UK's FTSE-100 index fell 232.90 points to 6038.30, and Japan's Nikkei 225 fell 406.51 points to 16764.09. \n",
    "\n",
    "Central banks across the world are injecting funds into their banking systems to add liquidity, fearing that many financial firms with subprime ties will be insolvent. <TIMEX3 tid=\"t2\" type=\"DATE\" value=\"2023-01-12\">Yesterday</TIMEX3>, the U.S. Federal Reserve transferred US$24 billion to temporary reserves, following the European Central Bank, which authorized a record €83.6 billion addition to its banks, its biggest cash infusion ever. On <TIMEX3 tid=\"t3\" type=\"DATE\" value=\"2023-01-13\">Friday</TIMEX3>, the Fed entered into a $38 billion repurchase agreement of mortgage-backed securities, easing stockholder worries. Also on <TIMEX3 tid=\"t4\" type=\"DATE\" value=\"2023-01-13\">Friday</TIMEX3>, the Bank of Japan injected ¥1 trillion into Japan's financial system. \n",
    "</TimeML>'''\n",
    "\n",
    "root = ET.fromstring(xml_string)\n",
    "\n",
    "annotated_spans = []\n",
    "for elem in root.iter():\n",
    "    if elem.tag == 'TIMEX3':\n",
    "        start = xml_string.index(elem.text)\n",
    "        end = start + len(elem.text)\n",
    "        annotated_spans.append({'text': elem.text, 'start': start, 'end': end, 'attributes': elem.attrib})\n",
    "\n",
    "print(annotated_spans)\n"
   ]
  },
  {
   "cell_type": "code",
   "execution_count": 1,
   "metadata": {},
   "outputs": [
    {
     "data": {
      "text/plain": [
       "b'<TIMEXES><TIMEX3 tid=\"t1\" type=\"DATE\" value=\"2008-08-31\" start_index=\"26\" end_index=\"31\">today</TIMEX3><TIMEX3 tid=\"t2\" type=\"DATE\" value=\"2008-08-30\" start_index=\"528\" end_index=\"537\">Yesterday</TIMEX3><TIMEX3 tid=\"t3\" type=\"DATE\" value=\"2008-08-29\" start_index=\"748\" end_index=\"754\">Friday</TIMEX3><TIMEX3 tid=\"t4\" type=\"DATE\" value=\"2008-08-29\" start_index=\"879\" end_index=\"885\">Friday</TIMEX3><TIMEX3 tid=\"t5\" type=\"DATE\" value=\"2008-W35\" start_index=\"981\" end_index=\"990\">this week</TIMEX3><TIMEX3 tid=\"t6\" type=\"DATE\" value=\"2008-08-29\" start_index=\"1054\" end_index=\"1060\">Friday</TIMEX3><TIMEX3 tid=\"t7\" type=\"DATE\" value=\"2008-08-29\" start_index=\"1164\" end_index=\"1175\">last Friday</TIMEX3><TIMEX3 tid=\"t11\" type=\"DATE\" value=\"2008-W35\" start_index=\"1597\" end_index=\"1606\">this week</TIMEX3><TIMEX3 tid=\"t12\" type=\"DATE\" value=\"PAST_REF\" start_index=\"1741\" end_index=\"1749\">recently</TIMEX3><TIMEX3 tid=\"t13\" type=\"DURATION\" value=\"P2Y\" mod=\"MORE_THAN\" start_index=\"1819\" end_index=\"1838\">more than two years</TIMEX3><TIMEX3 tid=\"t14\" type=\"DATE\" value=\"PRESENT_REF\" start_index=\"1897\" end_index=\"1900\">Now</TIMEX3><TIMEX3 tid=\"t15\" type=\"DATE\" value=\"2008-08-29\" start_index=\"2202\" end_index=\"2213\">Last Friday</TIMEX3></TIMEXES>'"
      ]
     },
     "execution_count": 1,
     "metadata": {},
     "output_type": "execute_result"
    }
   ],
   "source": [
    "import re\n",
    "import xml.etree.ElementTree as ET\n",
    "\n",
    "root  = ET.Element(\"TIMEXES\")\n",
    "\n",
    "#text = \"\"\"Global stock markets fell <TIMEX3 tid=\"t1\" type=\"DATE\" value=\"2008-08-31\">today</TIMEX3>, in a mass sell-off stemming from the sub-prime mortgage crisis in the United States. The Dow Jones Industrial Average rebounded late in the day after falling more than 250 points, ending the day down about 31 points. The UK\\'s FTSE-100 index fell 232.90 points to 6038.30, and Japan\\'s Nikkei 225 fell 406.51 points to 16764.09. \\n\\nCentral banks across the world are injecting funds into their banking systems to add liquidity, fearing that many financial firms with subprime ties will be insolvent. <TIMEX3 tid=\"t2\" type=\"DATE\" value=\"2008-08-30\">Yesterday</TIMEX3>, the U.S. Federal Reserve transferred US$24 billion to temporary reserves, following the European Central Bank, which authorized a record €83.6 billion addition to its banks, its biggest cash infusion ever.\"\"\"\n",
    "text = \"\"\"Global stock markets fell <TIMEX3 tid=\"t1\" type=\"DATE\" value=\"2008-08-31\">today</TIMEX3>, in a mass sell-off stemming from the sub-prime mortgage crisis in the United States. The Dow Jones Industrial Average rebounded late in the day after falling more than 250 points, ending the day down about 31 points. The UK's FTSE-100 index fell 232.90 points to 6038.30, and Japan's Nikkei 225 fell 406.51 points to 16764.09. Central banks across the world are injecting funds into their banking systems to add liquidity, fearing that many financial firms with subprime ties will be insolvent. <TIMEX3 tid=\"t2\" type=\"DATE\" value=\"2008-08-30\">Yesterday</TIMEX3>, the U.S. Federal Reserve transferred US$24 billion to temporary reserves, following the European Central Bank, which authorized a record €83.6 billion addition to its banks, its biggest cash infusion ever. On <TIMEX3 tid=\"t3\" type=\"DATE\" value=\"2008-08-29\">Friday</TIMEX3>, the Fed entered into a $38 billion repurchase agreement of mortgage-backed securities, easing stockholder worries. Also on <TIMEX3 tid=\"t4\" type=\"DATE\" value=\"2008-08-29\">Friday</TIMEX3>, the Bank of Japan injected ¥1 trillion into Japan's financial system. The Federal Reserve met <TIMEX3 tid=\"t5\" type=\"DATE\" value=\"2008-W35\">this week</TIMEX3>, but decided to maintain its target rate of 5.25%, although on <TIMEX3 tid=\"t6\" type=\"DATE\" value=\"2008-08-29\">Friday</TIMEX3> the federal funds rate was hovering around 6%, indicating a drop in liquidity. The volatile week began <TIMEX3 tid=\"t7\" type=\"DATE\" value=\"2008-08-29\">last Friday</TIMEX3> with Bear Stearns tumbling as a result from its complete loss of two major hedge funds worth more than $1.5 billion. The hedge funds had been dangerously exposed to the massive sub-prime mortgage failure, and the company announced it was unable to return any money to investors. Washington Mutual, and Countrywide Financial, both very large U.S. home loan lenders, saw shares fall. Countrywide Financial made a statement <TIMEX3 tid=\"t11\" type=\"DATE\" value=\"2008-W35\">this week</TIMEX3>, saying they will be forced to retain a greater proportion of mortgage. American Home Mortgage Investment Corp, another large lender, <TIMEX3 tid=\"t12\" type=\"DATE\" value=\"PAST_REF\">recently</TIMEX3> filed for bankruptcy. The U.S. housing market has been declining for <TIMEX3 tid=\"t13\" type=\"DURATION\" value=\"P2Y\" mod=\"MORE_THAN\">more than two years</TIMEX3> after the Federal Reserve raised interest rates 17 times. <TIMEX3 tid=\"t14\" type=\"DATE\" value=\"PRESENT_REF\">Now</TIMEX3>, lenders are in a quagmire from millions of people who are unable to repay loans after taking adjustable rate mortgages, teaser rates, interest-only mortgages, or piggyback rates. Jim Cramer, of CNBC's Mad Money, remarked that as many as seven million people will lose their homes from bad mortgages. <TIMEX3 tid=\"t15\" type=\"DATE\" value=\"2008-08-29\">Last Friday</TIMEX3>, Cramer went on a tirade on CNBC's Street Signs, saying that the \"Fed was asleep\" and called for them to lower rates immediately. Asian and European markets have become increasingly entangled in the subprime mortgage crisis in the U.S. Deutsche Bank of Germany lost almost $3.5 billion in share value, forcing the government to organize a bail-out. France's largest bank, BNP Paribas SA, halted withdrawals from three large investment funds which were crippled by sub-prime exposure.\"\"\"\n",
    "pattern = r'<TIMEX3.*?>(.*?)</TIMEX3>'\n",
    "#pattern2 = r'<(TIMEX3.*?)>(.*?)</TIMEX3.*?>'\n",
    "\n",
    "\n",
    "#r'<TIMEX3.*?>(.*?)</TIMEX3>'\n",
    "match = re.search(pattern, text)\n",
    "while (match):\n",
    "    start_index = match.start() # Start index of the xml tag\n",
    "    end_index = match.end() # End index of the xml tag\n",
    "    text_span = match.group(1) # Text span within the xml tag\n",
    "    start = match.start(1) # the start index of the span in the original text\n",
    "    end = match.end(1) # the end index of the span in the original text\n",
    "    original_st_index = start - start_index\n",
    "    original_end_index = end - start + start_index\n",
    "\n",
    "    child1 = ET.fromstring(match.group())\n",
    "\n",
    "    child1.set(\"start_index\", str(start_index))\n",
    "    child1.set(\"end_index\", str(original_end_index))\n",
    "    root.append(child1)\n",
    "    \n",
    "    #print(f\"Tag: {match.group(1)}, Text: {match.group(2)}, Start index: {start_index}, End index: {end_index}\")\n",
    "    \n",
    "    text = re.sub(match.group(), f\"{match.group(1)}\", text, count=1)\n",
    "\n",
    "    match = re.search(pattern, text)\n",
    "\n",
    "    if not match:\n",
    "        break\n",
    "\n",
    "ET.tostring(root, encoding='utf-8')"
   ]
  }
 ],
 "metadata": {
  "kernelspec": {
   "display_name": "venv",
   "language": "python",
   "name": "python3"
  },
  "language_info": {
   "codemirror_mode": {
    "name": "ipython",
    "version": 3
   },
   "file_extension": ".py",
   "mimetype": "text/x-python",
   "name": "python",
   "nbconvert_exporter": "python",
   "pygments_lexer": "ipython3",
   "version": "3.8.10"
  },
  "orig_nbformat": 4,
  "vscode": {
   "interpreter": {
    "hash": "7c4680721c86c4fd2995647dea688f8660f69cca7cbe25fb51d8ba9b28056e48"
   }
  }
 },
 "nbformat": 4,
 "nbformat_minor": 2
}
